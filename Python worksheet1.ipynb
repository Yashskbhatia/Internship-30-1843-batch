{
 "cells": [
  {
   "cell_type": "markdown",
   "id": "1c29959f",
   "metadata": {},
   "source": [
    "# Python Worksheet 1"
   ]
  },
  {
   "cell_type": "raw",
   "id": "f603c46b",
   "metadata": {},
   "source": [
    "#Qestion 1 \n",
    "Answer-Option C %"
   ]
  },
  {
   "cell_type": "raw",
   "id": "257ab24c",
   "metadata": {},
   "source": [
    "#question2 \n",
    "Answewr - Option B 0"
   ]
  },
  {
   "cell_type": "raw",
   "id": "df4e9cac",
   "metadata": {},
   "source": [
    "#question 3\n",
    "Answer-Option C 24"
   ]
  },
  {
   "cell_type": "raw",
   "id": "d65d9933",
   "metadata": {},
   "source": [
    "#question 4\n",
    "Answer A 2"
   ]
  },
  {
   "cell_type": "raw",
   "id": "788506a0",
   "metadata": {},
   "source": [
    "#Question 5\n",
    "Answer- D 6"
   ]
  },
  {
   "cell_type": "raw",
   "id": "f060946c",
   "metadata": {},
   "source": [
    "#question6 \n",
    "Answer-C the finally block will be executed no matter if the try block raises an error or not."
   ]
  },
  {
   "cell_type": "raw",
   "id": "ffe499c8",
   "metadata": {},
   "source": [
    "#question 7\n",
    "Answer-A It is used to raise an exception."
   ]
  },
  {
   "cell_type": "raw",
   "id": "42996d3f",
   "metadata": {},
   "source": [
    "#question 8\n",
    "Answer- D in for loop"
   ]
  },
  {
   "cell_type": "raw",
   "id": "12b91f44",
   "metadata": {},
   "source": [
    "Question 9\n",
    "Answer- A and C _abc and abc2"
   ]
  },
  {
   "cell_type": "raw",
   "id": "193fe46c",
   "metadata": {},
   "source": [
    "Question 10 \n",
    "Answer D All of the above"
   ]
  },
  {
   "cell_type": "code",
   "execution_count": 9,
   "id": "7f3963f9",
   "metadata": {},
   "outputs": [
    {
     "name": "stdout",
     "output_type": "stream",
     "text": [
      "The factorial of  6 is 720\n"
     ]
    }
   ],
   "source": [
    "#Python program for find out the factorial of a number\n",
    "num=6\n",
    "factorial=1\n",
    "for i in range(1,7):\n",
    "    factorial=factorial*i\n",
    "print(\"The factorial of \",num, \"is\",factorial)"
   ]
  },
  {
   "cell_type": "code",
   "execution_count": 34,
   "id": "9e1394fd",
   "metadata": {},
   "outputs": [
    {
     "name": "stdout",
     "output_type": "stream",
     "text": [
      "Enter any number 2\n",
      "2 is prime and not composite number \n"
     ]
    }
   ],
   "source": [
    "#python program to find out wether a number is prime or composite.\n",
    "num=int(input(\"Enter any number \"))\n",
    "if (num==1 or num==0):\n",
    "    print(num,\"is neither prime nor composite number\")\n",
    "elif num>1 :\n",
    "    for i in range(2,num):\n",
    "        if(num%i==0):\n",
    "             print(num,\"is not prime but composite\")\n",
    "        break\n",
    "    else:\n",
    "        print(num,\"is prime and not composite number \")\n",
    "        "
   ]
  },
  {
   "cell_type": "code",
   "execution_count": 42,
   "id": "267aeac1",
   "metadata": {},
   "outputs": [
    {
     "name": "stdout",
     "output_type": "stream",
     "text": [
      "enter any stringlevel\n",
      "The string is palindorme\n"
     ]
    }
   ],
   "source": [
    "#Python programme for checking string is palindrome or not\n",
    "string1=str(input(\"enter any string\"))\n",
    "if(string1==string1[::-1]):\n",
    "    print(\"The string is palindorme\")\n",
    "else:\n",
    "        print(\"The string is not palindrome\")\n"
   ]
  },
  {
   "cell_type": "code",
   "execution_count": 61,
   "id": "c06d828a",
   "metadata": {},
   "outputs": [
    {
     "name": "stdout",
     "output_type": "stream",
     "text": [
      "hypotenuse=5.0\n",
      "Adjacent=4.0\n",
      "Opposite=3.0\n",
      "already solved\n"
     ]
    }
   ],
   "source": [
    "#python programme for finding one side of triagle if two sides are given\n",
    "def pythagoras(opp_side,adj_side,hypotenuse):\n",
    "     if opp_side==str(\"x\"):\n",
    "        return(\"Opposite=\"+str(((hypotenuse**2)-(adj_side**2))**0.5))\n",
    "     elif adj_side==str(\"x\"):\n",
    "        return(\"Adjacent=\"+str(((hypotenuse**2)-(opp_side**2))**0.5))\n",
    "     elif hypotenuse==(\"x\"):\n",
    "        return(\"hypotenuse=\"+str(((opp_side**2)+(adj_side**2))**0.5))\n",
    "     else:\n",
    "        return(\"already solved\")\n",
    "print(pythagoras(3,4,'x'))\n",
    "print(pythagoras(3,'x',5))\n",
    "print(pythagoras('x',4,5))\n",
    "print(pythagoras(3,4,5))\n",
    "\n",
    "\n"
   ]
  },
  {
   "cell_type": "code",
   "execution_count": 91,
   "id": "b0907d03",
   "metadata": {},
   "outputs": [
    {
     "name": "stdout",
     "output_type": "stream",
     "text": [
      "count of all characters in datadrained is : /n{'d': 1}\n",
      "count of all characters in datadrained is : /n{'d': 1, 'a': 1}\n",
      "count of all characters in datadrained is : /n{'d': 1, 'a': 1, 't': 1}\n",
      "count of all characters in datadrained is : /n{'d': 1, 'a': 2, 't': 1}\n",
      "count of all characters in datadrained is : /n{'d': 1, 'a': 2, 't': 2}\n",
      "count of all characters in datadrained is : /n{'d': 1, 'a': 2, 't': 2, 'r': 1}\n",
      "count of all characters in datadrained is : /n{'d': 1, 'a': 3, 't': 2, 'r': 1}\n",
      "count of all characters in datadrained is : /n{'d': 1, 'a': 3, 't': 2, 'r': 1, 'i': 1}\n",
      "count of all characters in datadrained is : /n{'d': 1, 'a': 3, 't': 2, 'r': 1, 'i': 1, 'n': 1}\n",
      "count of all characters in datadrained is : /n{'d': 1, 'a': 3, 't': 2, 'r': 1, 'i': 1, 'n': 1, 'e': 1}\n",
      "count of all characters in datadrained is : /n{'d': 2, 'a': 3, 't': 2, 'r': 1, 'i': 1, 'n': 1, 'e': 1}\n"
     ]
    }
   ],
   "source": [
    "#Python program for counting frequency of characters in a string\n",
    "string_1=\"datatrained\"\n",
    "res = {}\n",
    "  \n",
    "for keys in string_1:\n",
    "    res[keys] = res.get(keys, 0) + 1\n",
    "    print(\"count of all characters in datadrained is : /n\" + str(res))\n",
    "        "
   ]
  },
  {
   "cell_type": "code",
   "execution_count": null,
   "id": "c0c1478c",
   "metadata": {},
   "outputs": [],
   "source": []
  },
  {
   "cell_type": "code",
   "execution_count": null,
   "id": "79f83796",
   "metadata": {},
   "outputs": [],
   "source": []
  }
 ],
 "metadata": {
  "kernelspec": {
   "display_name": "Python 3 (ipykernel)",
   "language": "python",
   "name": "python3"
  },
  "language_info": {
   "codemirror_mode": {
    "name": "ipython",
    "version": 3
   },
   "file_extension": ".py",
   "mimetype": "text/x-python",
   "name": "python",
   "nbconvert_exporter": "python",
   "pygments_lexer": "ipython3",
   "version": "3.9.7"
  }
 },
 "nbformat": 4,
 "nbformat_minor": 5
}
